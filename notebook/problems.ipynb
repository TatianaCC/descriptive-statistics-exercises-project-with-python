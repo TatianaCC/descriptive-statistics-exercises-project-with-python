{
    "cells": [
        {
            "cell_type": "markdown",
            "id": "ac622319",
            "metadata": {},
            "source": [
                "# Descriptive statistics problems"
            ]
        },
        {
            "cell_type": "markdown",
            "id": "aa8993e4",
            "metadata": {},
            "source": [
                "### Exercise 1"
            ]
        },
        {
            "cell_type": "markdown",
            "id": "5e0ab0d5",
            "metadata": {},
            "source": [
                "We will use Numpy to obtain information to describe statistically.\n",
                "\n",
                "- Generate an array of 100 elements following a normal distribution.\n",
                "- Generate an array of 100 elements following a chi-square distribution with 3 degrees of freedom.\n",
                "- Calculate the main metrics and statistical measures that best describe the two vectors."
            ]
        },
        {
            "cell_type": "code",
            "execution_count": 1,
            "id": "34720ab6",
            "metadata": {},
            "outputs": [
                {
                    "name": "stdout",
                    "output_type": "stream",
                    "text": [
                        "Mean for normal distribution:0.05\n",
                        "Mean for chi-square distribution:2.83\n",
                        "Median for normal distribution:0.01\n",
                        "Median for chi-square distribution:2.03\n",
                        "Variance for normal distribution:0.85\n",
                        "Variance for chi-square distribution:5.17\n",
                        "Standar deviation for normal distribution:0.92\n",
                        "Standar deviation for chi-square distribution:2.27\n",
                        "Skewness for normal distribution:0.20\n",
                        "Skewness for chi-square distribution:1.61\n",
                        "Kurtosis for normal distribution:-0.17\n",
                        "Kurtosis for chi-square distribution:2.35\n"
                    ]
                }
            ],
            "source": [
                "# TODO\n",
                "import numpy as np\n",
                "from scipy import stats\n",
                "\n",
                "# Normal distribution\n",
                "mean_normal = 0\n",
                "std_normal = 1\n",
                "v_normal = np.random.normal(mean_normal, std_normal, 100)\n",
                "\n",
                "# Chi-square distribution\n",
                "dfreedom = 3\n",
                "v_chi = np.random.chisquare(dfreedom, 100)\n",
                "\n",
                "# Statistical measures\n",
                "mean_n = np.mean(v_normal)\n",
                "mean_c = np.mean(v_chi)\n",
                "print('Mean for normal distribution:{:.2f}'.format(mean_n))\n",
                "print('Mean for chi-square distribution:{:.2f}'.format(mean_c))\n",
                "\n",
                "median_n = np.median(v_normal)\n",
                "median_c = np.median(v_chi)\n",
                "print('Median for normal distribution:{:.2f}'.format(median_n))\n",
                "print('Median for chi-square distribution:{:.2f}'.format(median_c))\n",
                "\n",
                "var_n = np.var(v_normal)\n",
                "var_c = np.var(v_chi)\n",
                "print('Variance for normal distribution:{:.2f}'.format(var_n))\n",
                "print('Variance for chi-square distribution:{:.2f}'.format(var_c))\n",
                "\n",
                "std_n = np.std(v_normal)\n",
                "std_c = np.std(v_chi)\n",
                "print('Standar deviation for normal distribution:{:.2f}'.format(std_n))\n",
                "print('Standar deviation for chi-square distribution:{:.2f}'.format(std_c))\n",
                "\n",
                "skew_n = stats.skew(v_normal)\n",
                "skew_c = stats.skew(v_chi)\n",
                "print('Skewness for normal distribution:{:.2f}'.format(skew_n))\n",
                "print('Skewness for chi-square distribution:{:.2f}'.format(skew_c))\n",
                "\n",
                "kurtosis_n = stats.kurtosis(v_normal)\n",
                "kurtosis_c = stats.kurtosis(v_chi)\n",
                "print('Kurtosis for normal distribution:{:.2f}'.format(kurtosis_n))\n",
                "print('Kurtosis for chi-square distribution:{:.2f}'.format(kurtosis_c))\n"
            ]
        },
        {
            "cell_type": "markdown",
            "id": "46c70c3d",
            "metadata": {},
            "source": [
                "### Exercise 2\n",
                "\n",
                "Write a Python program to calculate the standard deviation of the following data:\n",
                "\n",
                "```py\n",
                "data = [4, 2, 5, 8, 6]\n",
                "```"
            ]
        },
        {
            "cell_type": "code",
            "execution_count": 3,
            "id": "d590308e",
            "metadata": {},
            "outputs": [
                {
                    "name": "stdout",
                    "output_type": "stream",
                    "text": [
                        "Standard deviation of the data with statistics module: 2.24\n",
                        "Standard deviation of the data with numpy module: 2.00\n",
                        "Standard deviation of the data with formula: 2.00\n"
                    ]
                }
            ],
            "source": [
                "# TODO\n",
                "import statistics\n",
                "import numpy as np\n",
                "\n",
                "d=[4,2,5,8,6]\n",
                "\n",
                "# With statistics\n",
                "std_dev_stats = statistics.stdev(d)\n",
                "print('Standard deviation of the data with statistics module: {:.2f}'.format(std_dev_stats))\n",
                "\n",
                "# With numpy\n",
                "std_dev_np = np.std(d)\n",
                "print('Standard deviation of the data with numpy module: {:.2f}'.format(std_dev_np))\n",
                "\n",
                "# With formula\n",
                "m = sum(d) / len(d)  # don't use numpy functions in order to get a different value from np.std()\n",
                "total_sum = sum((x - m) ** 2 for x in d)\n",
                "std_dev_f = (total_sum / len(d)) ** 0.5\n",
                "print('Standard deviation of the data with formula: {:.2f}'.format(std_dev_f))\n"
            ]
        }
    ],
    "metadata": {
        "interpreter": {
            "hash": "9248718ffe6ce6938b217e69dbcc175ea21f4c6b28a317e96c05334edae734bb"
        },
        "kernelspec": {
            "display_name": "Python 3.9.12 ('ML-BOOTCAMP')",
            "language": "python",
            "name": "python3"
        },
        "language_info": {
            "codemirror_mode": {
                "name": "ipython",
                "version": 3
            },
            "file_extension": ".py",
            "mimetype": "text/x-python",
            "name": "python",
            "nbconvert_exporter": "python",
            "pygments_lexer": "ipython3",
            "version": "3.11.4"
        }
    },
    "nbformat": 4,
    "nbformat_minor": 5
}
